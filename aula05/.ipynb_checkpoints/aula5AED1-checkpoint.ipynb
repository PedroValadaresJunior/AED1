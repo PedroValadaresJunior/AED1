{
 "cells": [
  {
   "cell_type": "code",
   "execution_count": null,
   "id": "c53b8137",
   "metadata": {},
   "outputs": [],
   "source": [
    "# Retorna na tela \"Hello World\"\n",
    "print(\"Hello World\")"
   ]
  },
  {
   "cell_type": "code",
   "execution_count": 2,
   "id": "a5050ea4",
   "metadata": {},
   "outputs": [
    {
     "data": {
      "text/plain": [
       "10"
      ]
     },
     "execution_count": 2,
     "metadata": {},
     "output_type": "execute_result"
    }
   ],
   "source": [
    "5 + 5"
   ]
  },
  {
   "cell_type": "code",
   "execution_count": 7,
   "id": "06fdf49e",
   "metadata": {},
   "outputs": [
    {
     "name": "stdout",
     "output_type": "stream",
     "text": [
      "Pedro Valadares Júnior\n"
     ]
    }
   ],
   "source": [
    "nome = \"Pedro Valadares Júnior\"\n",
    "print(nome)"
   ]
  },
  {
   "cell_type": "code",
   "execution_count": 8,
   "id": "48e54fc2",
   "metadata": {},
   "outputs": [
    {
     "data": {
      "text/plain": [
       "str"
      ]
     },
     "execution_count": 8,
     "metadata": {},
     "output_type": "execute_result"
    }
   ],
   "source": [
    "type(nome)"
   ]
  },
  {
   "cell_type": "code",
   "execution_count": 9,
   "id": "6cde158d",
   "metadata": {},
   "outputs": [],
   "source": [
    "x = 345"
   ]
  },
  {
   "cell_type": "code",
   "execution_count": 12,
   "id": "7d3e4649",
   "metadata": {
    "scrolled": true
   },
   "outputs": [
    {
     "data": {
      "text/plain": [
       "347"
      ]
     },
     "execution_count": 12,
     "metadata": {},
     "output_type": "execute_result"
    }
   ],
   "source": [
    "y = x + 2\n",
    "y"
   ]
  },
  {
   "cell_type": "code",
   "execution_count": 16,
   "id": "0248875e",
   "metadata": {},
   "outputs": [],
   "source": [
    "b = 2\n",
    "c = 7"
   ]
  },
  {
   "cell_type": "code",
   "execution_count": 18,
   "id": "d4c5e999",
   "metadata": {},
   "outputs": [
    {
     "data": {
      "text/plain": [
       "0.503586800573888"
      ]
     },
     "execution_count": 18,
     "metadata": {},
     "output_type": "execute_result"
    }
   ],
   "source": [
    "# Isso é uma expressão linearizada\n",
    "y = (x + 3 * b) / (2 * x + c)\n",
    "y"
   ]
  },
  {
   "cell_type": "code",
   "execution_count": 19,
   "id": "298f2a04",
   "metadata": {},
   "outputs": [
    {
     "data": {
      "text/plain": [
       "2.0"
      ]
     },
     "execution_count": 19,
     "metadata": {},
     "output_type": "execute_result"
    }
   ],
   "source": [
    "# Divisão\n",
    "10 / 5"
   ]
  },
  {
   "cell_type": "code",
   "execution_count": 21,
   "id": "b808f15b",
   "metadata": {},
   "outputs": [],
   "source": [
    "prenome = 'Pedro'\n",
    "sobrenome = 'Valadares'"
   ]
  },
  {
   "cell_type": "code",
   "execution_count": 26,
   "id": "b92582fe",
   "metadata": {
    "scrolled": true
   },
   "outputs": [
    {
     "data": {
      "text/plain": [
       "'Pedro Valadares'"
      ]
     },
     "execution_count": 26,
     "metadata": {},
     "output_type": "execute_result"
    }
   ],
   "source": [
    "nome = prenome + ' ' + sobrenome\n",
    "nome"
   ]
  },
  {
   "cell_type": "code",
   "execution_count": 35,
   "id": "f5ac4acf",
   "metadata": {},
   "outputs": [],
   "source": [
    "# arredondando\n",
    "z = 2.1545"
   ]
  },
  {
   "cell_type": "code",
   "execution_count": 36,
   "id": "b0004ffb",
   "metadata": {},
   "outputs": [
    {
     "data": {
      "text/plain": [
       "2"
      ]
     },
     "execution_count": 36,
     "metadata": {},
     "output_type": "execute_result"
    }
   ],
   "source": [
    "round(z)"
   ]
  },
  {
   "cell_type": "code",
   "execution_count": 37,
   "id": "65f50d57",
   "metadata": {},
   "outputs": [
    {
     "data": {
      "text/plain": [
       "'Pedro Valadares'"
      ]
     },
     "execution_count": 37,
     "metadata": {},
     "output_type": "execute_result"
    }
   ],
   "source": [
    "nome"
   ]
  },
  {
   "cell_type": "code",
   "execution_count": 38,
   "id": "5ff3dc1b",
   "metadata": {},
   "outputs": [
    {
     "data": {
      "text/plain": [
       "'r'"
      ]
     },
     "execution_count": 38,
     "metadata": {},
     "output_type": "execute_result"
    }
   ],
   "source": [
    "nome[3]"
   ]
  },
  {
   "cell_type": "code",
   "execution_count": 40,
   "id": "ecefff92",
   "metadata": {},
   "outputs": [
    {
     "data": {
      "text/plain": [
       "'dro'"
      ]
     },
     "execution_count": 40,
     "metadata": {},
     "output_type": "execute_result"
    }
   ],
   "source": [
    "# Começa do 2 e o 5 é exclusivo\n",
    "nome[2:5]"
   ]
  },
  {
   "cell_type": "code",
   "execution_count": 43,
   "id": "a1847ebb",
   "metadata": {},
   "outputs": [
    {
     "name": "stdout",
     "output_type": "stream",
     "text": [
      "A\n",
      "a\n"
     ]
    }
   ],
   "source": [
    "# ASC\n",
    "print(chr(65))\n",
    "print(chr(97))\n",
    "print()"
   ]
  },
  {
   "cell_type": "code",
   "execution_count": null,
   "id": "2839e8ce",
   "metadata": {},
   "outputs": [],
   "source": []
  }
 ],
 "metadata": {
  "kernelspec": {
   "display_name": "Python 3 (ipykernel)",
   "language": "python",
   "name": "python3"
  },
  "language_info": {
   "codemirror_mode": {
    "name": "ipython",
    "version": 3
   },
   "file_extension": ".py",
   "mimetype": "text/x-python",
   "name": "python",
   "nbconvert_exporter": "python",
   "pygments_lexer": "ipython3",
   "version": "3.11.4"
  }
 },
 "nbformat": 4,
 "nbformat_minor": 5
}
